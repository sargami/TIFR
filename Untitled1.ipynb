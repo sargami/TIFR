{
 "cells": [
  {
   "cell_type": "code",
   "execution_count": 20,
   "id": "a24b0cff",
   "metadata": {},
   "outputs": [],
   "source": [
    "import csv"
   ]
  },
  {
   "cell_type": "code",
   "execution_count": 21,
   "id": "c51205a8",
   "metadata": {},
   "outputs": [],
   "source": [
    "csv_file_path = '/home/sgami/Downloads/exercise1/scores.csv'"
   ]
  },
  {
   "cell_type": "code",
   "execution_count": 22,
   "id": "f7e93397",
   "metadata": {},
   "outputs": [],
   "source": [
    "with open(csv_file_path, 'r') as csvfile:\n",
    "    csv_reader = csv.reader(csvfile)\n",
    "    data = list(csv_reader)\n"
   ]
  },
  {
   "cell_type": "code",
   "execution_count": 23,
   "id": "ec07a591",
   "metadata": {},
   "outputs": [],
   "source": [
    "column_3_values = []"
   ]
  },
  {
   "cell_type": "code",
   "execution_count": 24,
   "id": "b84d545c",
   "metadata": {},
   "outputs": [],
   "source": [
    "for row in data[1:]:\n",
    "    if len(row) >= 3:\n",
    "        column_3_values.append(row[2])\n"
   ]
  },
  {
   "cell_type": "code",
   "execution_count": 25,
   "id": "74a31bdb",
   "metadata": {},
   "outputs": [
    {
     "data": {
      "text/plain": [
       "200"
      ]
     },
     "execution_count": 25,
     "metadata": {},
     "output_type": "execute_result"
    }
   ],
   "source": [
    "len(column_3_values)"
   ]
  },
  {
   "cell_type": "code",
   "execution_count": 26,
   "id": "aa51ee90",
   "metadata": {
    "scrolled": true
   },
   "outputs": [
    {
     "name": "stdout",
     "output_type": "stream",
     "text": [
      "all entries in column-3: ['76', '80', '69', '59', '57', '85', '84', '72', '59', '68', '82', '80', '70', '82', '77', '63', '57', '62', '78', '81', '61', '55', '56', '67', '72', '83', '60', '76', '65', '84', '63', '67', '57', '79', '73', '58', '81', '81', '81', '81', '79', '84', '78', '80', '58', '60', '80', '61', '70', '80', '74', '62', '58', '83', '66', '72', '56', '66', '68', '70', '60', '78', '71', '78', '85', '56', '82', '55', '67', '67', '55', '76', '80', '74', '79', '58', '73', '62', '82', '75', '70', '74', '55', '72', '63', '69', '73', '57', '55', '75', '77', '79', '72', '84', '66', '74', '66', '63', '55', '82', '69', '83', '83', '66', '66', '82', '84', '57', '69', '82', '70', '72', '65', '58', '58', '69', '72', '75', '73', '66', '69', '85', '78', '67', '71', '81', '76', '63', '85', '66', '83', '56', '80', '65', '60', '78', '67', '78', '66', '81', '78', '67', '78', '85', '81', '55', '76', '69', '78', '67', '77', '70', '60', '56', '73', '80', '77', '83', '58', '80', '57', '58', '79', '67', '63', '64', '71', '65', '63', '60', '65', '83', '84', '69', '83', '83', '69', '70', '70', '71', '69', '71', '77', '78', '65', '66', '59', '55', '61', '56', '84', '79', '64', '70', '61', '63', '80', '56', '79', '55']\n"
     ]
    }
   ],
   "source": [
    "print('all entries in column-3:', column_3_values)\n"
   ]
  },
  {
   "cell_type": "code",
   "execution_count": 17,
   "id": "0b052df9",
   "metadata": {},
   "outputs": [],
   "source": [
    "column_3_values.sort(reverse=True)"
   ]
  },
  {
   "cell_type": "code",
   "execution_count": 18,
   "id": "08ebc88e",
   "metadata": {},
   "outputs": [
    {
     "name": "stdout",
     "output_type": "stream",
     "text": [
      "['85', '85', '85', '85', '85', '84', '84', '84', '84', '84', '84', '84', '83', '83', '83', '83', '83', '83', '83', '83', '83', '82', '82', '82', '82', '82', '82', '82', '81', '81', '81', '81', '81', '81', '81', '81', '80', '80', '80', '80', '80', '80', '80', '80', '80', '80', '79', '79', '79', '79', '79', '79', '79', '78', '78', '78', '78', '78', '78', '78', '78', '78', '78', '78', '77', '77', '77', '77', '77', '76', '76', '76', '76', '76', '75', '75', '75', '74', '74', '74', '74', '73', '73', '73', '73', '73', '72', '72', '72', '72', '72', '72', '72', '71', '71', '71', '71', '71', '70', '70', '70', '70', '70', '70', '70', '70', '70', '69', '69', '69', '69', '69', '69', '69', '69', '69', '69', '68', '68', '67', '67', '67', '67', '67', '67', '67', '67', '67', '66', '66', '66', '66', '66', '66', '66', '66', '66', '66', '65', '65', '65', '65', '65', '65', '64', '64', '63', '63', '63', '63', '63', '63', '63', '63', '62', '62', '62', '61', '61', '61', '61', '60', '60', '60', '60', '60', '60', '59', '59', '59', '58', '58', '58', '58', '58', '58', '58', '58', '57', '57', '57', '57', '57', '57', '56', '56', '56', '56', '56', '56', '56', '55', '55', '55', '55', '55', '55', '55', '55', '55']\n"
     ]
    }
   ],
   "source": [
    "print(column_3_values)"
   ]
  },
  {
   "cell_type": "markdown",
   "id": "63c3e752",
   "metadata": {},
   "source": [
    "second part: sum of column\n",
    "\n",
    "\n"
   ]
  },
  {
   "cell_type": "code",
   "execution_count": 43,
   "id": "b2530b8c",
   "metadata": {},
   "outputs": [],
   "source": [
    "def get_sum_of_row(row):\n",
    "    return sum(int(value) for value in row[1:]) \n"
   ]
  },
  {
   "cell_type": "code",
   "execution_count": 44,
   "id": "2279646e",
   "metadata": {},
   "outputs": [],
   "source": [
    "sorted_data = sorted(data[1:], key=get_sum_of_row, reverse=True)"
   ]
  },
  {
   "cell_type": "code",
   "execution_count": 45,
   "id": "b22947ba",
   "metadata": {},
   "outputs": [],
   "source": [
    "output_csv_file = 'sorted_score.csv'\n",
    "with open(output_csv_file, 'w', newline='') as csvfile:\n",
    "    csvwriter = csv.writer(csvfile)\n",
    "    csvwriter.writerow(data[0])  # Write the header row\n",
    "    csvwriter.writerows(sorted_data)"
   ]
  },
  {
   "cell_type": "code",
   "execution_count": null,
   "id": "94030827",
   "metadata": {},
   "outputs": [],
   "source": []
  }
 ],
 "metadata": {
  "kernelspec": {
   "display_name": "Python 3 (ipykernel)",
   "language": "python",
   "name": "python3"
  },
  "language_info": {
   "codemirror_mode": {
    "name": "ipython",
    "version": 3
   },
   "file_extension": ".py",
   "mimetype": "text/x-python",
   "name": "python",
   "nbconvert_exporter": "python",
   "pygments_lexer": "ipython3",
   "version": "3.11.5"
  }
 },
 "nbformat": 4,
 "nbformat_minor": 5
}
