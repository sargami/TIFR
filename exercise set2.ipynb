{
 "cells": [
  {
   "cell_type": "markdown",
   "id": "fffab948",
   "metadata": {},
   "source": [
    "exercice set 2\n",
    "question 1\n",
    "(a) using basic loop"
   ]
  },
  {
   "cell_type": "code",
   "execution_count": 11,
   "id": "22d105ec",
   "metadata": {},
   "outputs": [
    {
     "name": "stdout",
     "output_type": "stream",
     "text": [
      "[8, 81, 1024, 15625, 279936]\n"
     ]
    }
   ],
   "source": [
    "import math\n",
    "b = [2, 3, 4, 5, 6]\n",
    "p = [3, 4, 5, 6, 7]\n",
    "elementwise_power = []\n",
    "for i in range(len(b)):\n",
    "    power = math.pow(b[i], p[i])\n",
    "    elementwise_power.append(int(power))\n",
    "\n",
    "print(elementwise_power)\n"
   ]
  },
  {
   "cell_type": "markdown",
   "id": "cfcc3a03",
   "metadata": {},
   "source": [
    "(b) using  map"
   ]
  },
  {
   "cell_type": "code",
   "execution_count": 12,
   "id": "9bd68f67",
   "metadata": {},
   "outputs": [
    {
     "name": "stdout",
     "output_type": "stream",
     "text": [
      "[8.0, 81.0, 1024.0, 15625.0, 279936.0]\n"
     ]
    }
   ],
   "source": [
    "import math\n",
    "\n",
    "b = [2, 3, 4, 5, 6]\n",
    "p = [3, 4, 5, 6, 7]\n",
    "\n",
    "elementwise_power = list(map(math.pow, b, p))\n",
    "\n",
    "print(elementwise_power)\n"
   ]
  },
  {
   "cell_type": "markdown",
   "id": "69858640",
   "metadata": {},
   "source": [
    "(c)using list comprehension"
   ]
  },
  {
   "cell_type": "code",
   "execution_count": 13,
   "id": "d1ba9f40",
   "metadata": {},
   "outputs": [
    {
     "name": "stdout",
     "output_type": "stream",
     "text": [
      "[8.0, 81.0, 1024.0, 15625.0, 279936.0]\n"
     ]
    }
   ],
   "source": [
    "import math\n",
    "\n",
    "b = [2, 3, 4, 5, 6]\n",
    "p = [3, 4, 5, 6, 7]\n",
    "\n",
    "elementwise_power = [math.pow(b[i], p[i]) for i in range(min(len(b), len(p)))]\n",
    "print(elementwise_power)\n"
   ]
  },
  {
   "cell_type": "markdown",
   "id": "ef94e01c",
   "metadata": {},
   "source": [
    "question 2\n",
    "\n",
    "\n",
    "fruits = ['red apple', 'green apple', 'banana', 'kiwi']\n",
    "\n",
    "\n",
    "for fruit in fruits:\n",
    "\n",
    "\n",
    "    if 'apple' in fruit:\n",
    "        fruits.append(fruit)\n",
    "\tprint('Added a', fruit)"
   ]
  },
  {
   "cell_type": "markdown",
   "id": "b44b8a13",
   "metadata": {},
   "source": [
    "Basically, this code works as for the given fruits list, for a statement iterates through the list. If apple is found in fruit this append to fruit list, but in this code, apple is found in red apple so red apple appends to fruits list and loop continues with next iteration now apple is also found in green apple so it also appends to fruits list now loop keeps continue for the newly add element in last and add new elements this continues infinite time, thus this code not work\n",
    "\n",
    "like \n",
    "['red apple', 'green apple', 'banana', 'kiwi', 'red apple', 'green apple'..................]"
   ]
  },
  {
   "cell_type": "markdown",
   "id": "581328dc",
   "metadata": {},
   "source": [
    "\n",
    "\n",
    "question 3"
   ]
  },
  {
   "cell_type": "code",
   "execution_count": 14,
   "id": "c6b2e582",
   "metadata": {},
   "outputs": [
    {
     "name": "stdout",
     "output_type": "stream",
     "text": [
      "count of unique characters: 4\n"
     ]
    }
   ],
   "source": [
    "str = 'AGCTTTTCATTCTGACTGCAACGGGCAATATGTCTCTGTGTGGATTAAAAAAAGAGTGTCTGATAGCAGC'\n",
    "\n",
    "unique_characters = set(str)\n",
    "number_of_unique_characters = len(unique_characters)\n",
    "print(f'count of unique characters: {number_of_unique_characters}')"
   ]
  },
  {
   "cell_type": "code",
   "execution_count": 10,
   "id": "9e4734d0",
   "metadata": {},
   "outputs": [
    {
     "name": "stdout",
     "output_type": "stream",
     "text": [
      "A: 20\n",
      "G: 17\n",
      "C: 12\n",
      "T: 21\n"
     ]
    }
   ],
   "source": [
    "str = 'AGCTTTTCATTCTGACTGCAACGGGCAATATGTCTCTGTGTGGATTAAAAAAAGAGTGTCTGATAGCAGC'\n",
    "frequent_occurance = {}\n",
    "\n",
    "for char in str:\n",
    "    if char in frequent_occurance:\n",
    "        frequent_occurance[char] += 1\n",
    "    else:\n",
    "        frequent_occurance[char] = 1\n",
    "for char in frequent_occurance:\n",
    "    print(f'{char}: {frequent_occurance[char]}')\n"
   ]
  },
  {
   "cell_type": "code",
   "execution_count": null,
   "id": "53b1bd51",
   "metadata": {},
   "outputs": [],
   "source": []
  }
 ],
 "metadata": {
  "kernelspec": {
   "display_name": "Python 3 (ipykernel)",
   "language": "python",
   "name": "python3"
  },
  "language_info": {
   "codemirror_mode": {
    "name": "ipython",
    "version": 3
   },
   "file_extension": ".py",
   "mimetype": "text/x-python",
   "name": "python",
   "nbconvert_exporter": "python",
   "pygments_lexer": "ipython3",
   "version": "3.11.5"
  }
 },
 "nbformat": 4,
 "nbformat_minor": 5
}
